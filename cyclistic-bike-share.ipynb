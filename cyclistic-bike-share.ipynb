{
 "cells": [
  {
   "cell_type": "code",
   "execution_count": 1,
   "id": "a0d5493c",
   "metadata": {
    "_execution_state": "idle",
    "_uuid": "051d70d956493feee0c6d64651c6a088724dca2a",
    "execution": {
     "iopub.execute_input": "2021-08-31T10:42:17.024314Z",
     "iopub.status.busy": "2021-08-31T10:42:17.021487Z",
     "iopub.status.idle": "2021-08-31T10:42:18.456988Z",
     "shell.execute_reply": "2021-08-31T10:42:18.455486Z"
    },
    "papermill": {
     "duration": 1.457818,
     "end_time": "2021-08-31T10:42:18.457222",
     "exception": false,
     "start_time": "2021-08-31T10:42:16.999404",
     "status": "completed"
    },
    "tags": []
   },
   "outputs": [
    {
     "name": "stderr",
     "output_type": "stream",
     "text": [
      "── \u001b[1mAttaching packages\u001b[22m ─────────────────────────────────────── tidyverse 1.3.1 ──\n",
      "\n",
      "\u001b[32m✔\u001b[39m \u001b[34mggplot2\u001b[39m 3.3.4     \u001b[32m✔\u001b[39m \u001b[34mpurrr  \u001b[39m 0.3.4\n",
      "\u001b[32m✔\u001b[39m \u001b[34mtibble \u001b[39m 3.1.2     \u001b[32m✔\u001b[39m \u001b[34mdplyr  \u001b[39m 1.0.7\n",
      "\u001b[32m✔\u001b[39m \u001b[34mtidyr  \u001b[39m 1.1.3     \u001b[32m✔\u001b[39m \u001b[34mstringr\u001b[39m 1.4.0\n",
      "\u001b[32m✔\u001b[39m \u001b[34mreadr  \u001b[39m 1.4.0     \u001b[32m✔\u001b[39m \u001b[34mforcats\u001b[39m 0.5.1\n",
      "\n",
      "── \u001b[1mConflicts\u001b[22m ────────────────────────────────────────── tidyverse_conflicts() ──\n",
      "\u001b[31m✖\u001b[39m \u001b[34mdplyr\u001b[39m::\u001b[32mfilter()\u001b[39m masks \u001b[34mstats\u001b[39m::filter()\n",
      "\u001b[31m✖\u001b[39m \u001b[34mdplyr\u001b[39m::\u001b[32mlag()\u001b[39m    masks \u001b[34mstats\u001b[39m::lag()\n",
      "\n"
     ]
    },
    {
     "data": {
      "text/html": [
       "'cyclistic-data'"
      ],
      "text/latex": [
       "'cyclistic-data'"
      ],
      "text/markdown": [
       "'cyclistic-data'"
      ],
      "text/plain": [
       "[1] \"cyclistic-data\""
      ]
     },
     "metadata": {},
     "output_type": "display_data"
    }
   ],
   "source": [
    "# This R environment comes with many helpful analytics packages installed\n",
    "# It is defined by the kaggle/rstats Docker image: https://github.com/kaggle/docker-rstats\n",
    "# For example, here's a helpful package to load\n",
    "\n",
    "library(tidyverse) # metapackage of all tidyverse packages\n",
    "\n",
    "# Input data files are available in the read-only \"../input/\" directory\n",
    "# For example, running this (by clicking run or pressing Shift+Enter) will list all files under the input directory\n",
    "\n",
    "list.files(path = \"../input\")\n",
    "\n",
    "# You can write up to 20GB to the current directory (/kaggle/working/) that gets preserved as output when you create a version using \"Save & Run All\" \n",
    "# You can also write temporary files to /kaggle/temp/, but they won't be saved outside of the current session"
   ]
  },
  {
   "cell_type": "markdown",
   "id": "cae8db9f",
   "metadata": {
    "papermill": {
     "duration": 0.016243,
     "end_time": "2021-08-31T10:42:18.491047",
     "exception": false,
     "start_time": "2021-08-31T10:42:18.474804",
     "status": "completed"
    },
    "tags": []
   },
   "source": [
    "# Cyclistic Bike-Share case study"
   ]
  },
  {
   "cell_type": "markdown",
   "id": "5500c0cc",
   "metadata": {
    "papermill": {
     "duration": 0.016288,
     "end_time": "2021-08-31T10:42:18.523809",
     "exception": false,
     "start_time": "2021-08-31T10:42:18.507521",
     "status": "completed"
    },
    "tags": []
   },
   "source": [
    "## 1. Ask\n",
    "\n",
    "#### The Cyclistic bike-share company targets to convert as many casual members as possible into annual members. Therefore we will try to gain some insight from the data to identify differences and patterns between annual and casual members.\n",
    "\n",
    "\n",
    "#### Our primary question is \"How do annual members and casual riders use Cyclistic bikes differently?\"\n",
    "#### The key stakeholders are the director of marketing, Lily Moreno, the Cyclistic marketing analytics team and the Cyclistic executive team\n"
   ]
  },
  {
   "cell_type": "markdown",
   "id": "20a27766",
   "metadata": {
    "papermill": {
     "duration": 0.01638,
     "end_time": "2021-08-31T10:42:18.556686",
     "exception": false,
     "start_time": "2021-08-31T10:42:18.540306",
     "status": "completed"
    },
    "tags": []
   },
   "source": [
    "## 2. Prepare\n",
    "#### We have downloaded the data from this source https://divvy-tripdata.s3.amazonaws.com/index.html under this license https://www.divvybikes.com/data-license-agreement. The data is organized in multiple excel files and we will examine datasets from August 2020 to July 2021."
   ]
  },
  {
   "cell_type": "code",
   "execution_count": 2,
   "id": "888af94b",
   "metadata": {
    "execution": {
     "iopub.execute_input": "2021-08-31T10:42:18.627835Z",
     "iopub.status.busy": "2021-08-31T10:42:18.595193Z",
     "iopub.status.idle": "2021-08-31T10:42:18.906915Z",
     "shell.execute_reply": "2021-08-31T10:42:18.905722Z"
    },
    "papermill": {
     "duration": 0.332679,
     "end_time": "2021-08-31T10:42:18.907064",
     "exception": false,
     "start_time": "2021-08-31T10:42:18.574385",
     "status": "completed"
    },
    "tags": []
   },
   "outputs": [
    {
     "name": "stderr",
     "output_type": "stream",
     "text": [
      "\n",
      "Attaching package: ‘lubridate’\n",
      "\n",
      "\n",
      "The following objects are masked from ‘package:base’:\n",
      "\n",
      "    date, intersect, setdiff, union\n",
      "\n",
      "\n"
     ]
    }
   ],
   "source": [
    "## Loading the required packages\n",
    "library(tidyverse) ## for import and data wrangling\n",
    "library(lubridate) ## for date and time data\n",
    "library(ggplot2) ## for visualizations\n",
    "library(geosphere) ## for geographical data"
   ]
  },
  {
   "cell_type": "code",
   "execution_count": 3,
   "id": "dc2d2b2e",
   "metadata": {
    "execution": {
     "iopub.execute_input": "2021-08-31T10:42:18.949409Z",
     "iopub.status.busy": "2021-08-31T10:42:18.946867Z",
     "iopub.status.idle": "2021-08-31T10:43:51.525943Z",
     "shell.execute_reply": "2021-08-31T10:43:51.524988Z"
    },
    "papermill": {
     "duration": 92.601519,
     "end_time": "2021-08-31T10:43:51.526154",
     "exception": false,
     "start_time": "2021-08-31T10:42:18.924635",
     "status": "completed"
    },
    "tags": []
   },
   "outputs": [],
   "source": [
    "## Load the data\n",
    "Aug_2020 <- read.csv(\"../input/cyclistic-data/Aug_2020/202008-divvy-tripdata.csv\")\n",
    "Sep_2020 <- read.csv(\"../input/cyclistic-data/Sep_2020/202009-divvy-tripdata.csv\")\n",
    "Oct_2020 <- read.csv(\"../input/cyclistic-data/Oct_2020/202010-divvy-tripdata.csv\")\n",
    "Nov_2020 <- read.csv(\"../input/cyclistic-data/Nov_2020/202011-divvy-tripdata.csv\")\n",
    "Dec_2020 <- read.csv(\"../input/cyclistic-data/Dec_2020/202012-divvy-tripdata.csv\")\n",
    "Jan_2021 <- read.csv(\"../input/cyclistic-data/Jan_2021/202101-divvy-tripdata.csv\")\n",
    "Feb_2021 <- read.csv(\"../input/cyclistic-data/Feb_2021/202102-divvy-tripdata.csv\")\n",
    "Mar_2021 <- read.csv(\"../input/cyclistic-data/March_2021/202103-divvy-tripdata.csv\")\n",
    "Apr_2021 <- read.csv(\"../input/cyclistic-data/April_2021/202104-divvy-tripdata.csv\")\n",
    "May_2021 <- read.csv(\"../input/cyclistic-data/May_2021/202105-divvy-tripdata.csv\")\n",
    "Jun_2021 <- read.csv(\"../input/cyclistic-data/June_2021/202106-divvy-tripdata.csv\")\n",
    "Jul_2021 <- read.csv(\"../input/cyclistic-data/July_2021/202107-divvy-tripdata.csv\")"
   ]
  },
  {
   "cell_type": "code",
   "execution_count": 4,
   "id": "71b54d8b",
   "metadata": {
    "execution": {
     "iopub.execute_input": "2021-08-31T10:43:51.568998Z",
     "iopub.status.busy": "2021-08-31T10:43:51.567563Z",
     "iopub.status.idle": "2021-08-31T10:43:57.881082Z",
     "shell.execute_reply": "2021-08-31T10:43:57.879727Z"
    },
    "papermill": {
     "duration": 6.334976,
     "end_time": "2021-08-31T10:43:57.881307",
     "exception": false,
     "start_time": "2021-08-31T10:43:51.546331",
     "status": "completed"
    },
    "tags": []
   },
   "outputs": [],
   "source": [
    "## We will join all the data together but first we must convert \"end_station_id\" \n",
    "## and \"start_station_id\" into characters where necessary\n",
    "\n",
    "Aug_2020$start_station_id <- as.character(Aug_2020$start_station_id)\n",
    "Aug_2020$end_station_id <- as.character(Aug_2020$end_station_id)\n",
    "\n",
    "Sep_2020$start_station_id <- as.character(Sep_2020$start_station_id)\n",
    "Sep_2020$end_station_id <- as.character(Sep_2020$end_station_id)\n",
    "\n",
    "Oct_2020$start_station_id <- as.character(Oct_2020$start_station_id)\n",
    "Oct_2020$end_station_id <- as.character(Oct_2020$end_station_id)\n",
    "\n",
    "Nov_2020$start_station_id <- as.character(Nov_2020$start_station_id)\n",
    "Nov_2020$end_station_id <- as.character(Nov_2020$end_station_id)\n",
    "\n",
    "Jul_2021$start_station_id <- as.character(Jul_2021$start_station_id)\n",
    "Jul_2021$end_station_id <- as.character(Jul_2021$end_station_id)\n",
    "\n",
    "## Now we combine all datasets together\n",
    "all_cyclistic_data <- bind_rows(Aug_2020,Sep_2020,Oct_2020,Nov_2020,Dec_2020,Jan_2021,Feb_2021,\n",
    "                           Mar_2021,Apr_2021,May_2021,Jun_2021,Jul_2021)"
   ]
  },
  {
   "cell_type": "markdown",
   "id": "cbbe226d",
   "metadata": {
    "papermill": {
     "duration": 0.017367,
     "end_time": "2021-08-31T10:43:57.916610",
     "exception": false,
     "start_time": "2021-08-31T10:43:57.899243",
     "status": "completed"
    },
    "tags": []
   },
   "source": [
    "# 3. Process\n",
    "### Now we must clean the data for analysis and add some useful context in our dataset"
   ]
  },
  {
   "cell_type": "code",
   "execution_count": 5,
   "id": "b793733f",
   "metadata": {
    "execution": {
     "iopub.execute_input": "2021-08-31T10:43:57.956831Z",
     "iopub.status.busy": "2021-08-31T10:43:57.955463Z",
     "iopub.status.idle": "2021-08-31T10:44:35.188976Z",
     "shell.execute_reply": "2021-08-31T10:44:35.187793Z"
    },
    "papermill": {
     "duration": 37.255306,
     "end_time": "2021-08-31T10:44:35.189197",
     "exception": false,
     "start_time": "2021-08-31T10:43:57.933891",
     "status": "completed"
    },
    "tags": []
   },
   "outputs": [
    {
     "name": "stdout",
     "output_type": "stream",
     "text": [
      "'data.frame':\t4731081 obs. of  13 variables:\n",
      " $ ride_id           : chr  \"322BD23D287743ED\" \"2A3AEF1AB9054D8B\" \"67DC1D133E8B5816\" \"C79FBBD412E578A7\" ...\n",
      " $ rideable_type     : chr  \"docked_bike\" \"electric_bike\" \"electric_bike\" \"electric_bike\" ...\n",
      " $ started_at        : chr  \"2020-08-20 18:08:14\" \"2020-08-27 18:46:04\" \"2020-08-26 19:44:14\" \"2020-08-27 12:05:41\" ...\n",
      " $ ended_at          : chr  \"2020-08-20 18:17:51\" \"2020-08-27 19:54:51\" \"2020-08-26 21:53:07\" \"2020-08-27 12:53:45\" ...\n",
      " $ start_station_name: chr  \"Lake Shore Dr & Diversey Pkwy\" \"Michigan Ave & 14th St\" \"Columbus Dr & Randolph St\" \"Daley Center Plaza\" ...\n",
      " $ start_station_id  : chr  \"329\" \"168\" \"195\" \"81\" ...\n",
      " $ end_station_name  : chr  \"Clark St & Lincoln Ave\" \"Michigan Ave & 14th St\" \"State St & Randolph St\" \"State St & Kinzie St\" ...\n",
      " $ end_station_id    : chr  \"141\" \"168\" \"44\" \"47\" ...\n",
      " $ start_lat         : num  41.9 41.9 41.9 41.9 41.9 ...\n",
      " $ start_lng         : num  -87.6 -87.6 -87.6 -87.6 -87.7 ...\n",
      " $ end_lat           : num  41.9 41.9 41.9 41.9 41.9 ...\n",
      " $ end_lng           : num  -87.6 -87.6 -87.6 -87.6 -87.7 ...\n",
      " $ member_casual     : chr  \"member\" \"casual\" \"casual\" \"casual\" ...\n"
     ]
    },
    {
     "data": {
      "text/plain": [
       "   ride_id          rideable_type       started_at          ended_at        \n",
       " Length:4731081     Length:4731081     Length:4731081     Length:4731081    \n",
       " Class :character   Class :character   Class :character   Class :character  \n",
       " Mode  :character   Mode  :character   Mode  :character   Mode  :character  \n",
       "                                                                            \n",
       "                                                                            \n",
       "                                                                            \n",
       "                                                                            \n",
       " start_station_name start_station_id   end_station_name   end_station_id    \n",
       " Length:4731081     Length:4731081     Length:4731081     Length:4731081    \n",
       " Class :character   Class :character   Class :character   Class :character  \n",
       " Mode  :character   Mode  :character   Mode  :character   Mode  :character  \n",
       "                                                                            \n",
       "                                                                            \n",
       "                                                                            \n",
       "                                                                            \n",
       "   start_lat       start_lng         end_lat         end_lng      \n",
       " Min.   :41.64   Min.   :-87.87   Min.   :41.51   Min.   :-88.07  \n",
       " 1st Qu.:41.88   1st Qu.:-87.66   1st Qu.:41.88   1st Qu.:-87.66  \n",
       " Median :41.90   Median :-87.64   Median :41.90   Median :-87.64  \n",
       " Mean   :41.90   Mean   :-87.64   Mean   :41.90   Mean   :-87.64  \n",
       " 3rd Qu.:41.93   3rd Qu.:-87.63   3rd Qu.:41.93   3rd Qu.:-87.63  \n",
       " Max.   :42.08   Max.   :-87.52   Max.   :42.16   Max.   :-87.44  \n",
       "                                  NA's   :5247    NA's   :5247    \n",
       " member_casual     \n",
       " Length:4731081    \n",
       " Class :character  \n",
       " Mode  :character  \n",
       "                   \n",
       "                   \n",
       "                   \n",
       "                   "
      ]
     },
     "metadata": {},
     "output_type": "display_data"
    }
   ],
   "source": [
    "## First we take a little glimpse on the data\n",
    "str(all_cyclistic_data)\n",
    "summary(all_cyclistic_data)\n",
    "\n",
    "\n",
    "## Then we remove all the NA values\n",
    "clean_data <- drop_na(all_cyclistic_data)\n",
    "\n",
    "## After that we add some new columns to our dataset\n",
    "clean_data$date <- as.Date(clean_data$started_at) \n",
    "clean_data$day <- format(as.Date(clean_data$date),'%d')\n",
    "clean_data$month <- format(as.Date(clean_data$date),'%m')\n",
    "clean_data$year <- format(as.Date(clean_data$date),'%y')\n",
    "clean_data$day_of_the_week <- format(as.Date(clean_data$date),'%A')"
   ]
  },
  {
   "cell_type": "code",
   "execution_count": 6,
   "id": "dfab7bd2",
   "metadata": {
    "execution": {
     "iopub.execute_input": "2021-08-31T10:44:35.231421Z",
     "iopub.status.busy": "2021-08-31T10:44:35.229954Z",
     "iopub.status.idle": "2021-08-31T10:57:48.601946Z",
     "shell.execute_reply": "2021-08-31T10:57:48.600658Z"
    },
    "papermill": {
     "duration": 793.394136,
     "end_time": "2021-08-31T10:57:48.602162",
     "exception": false,
     "start_time": "2021-08-31T10:44:35.208026",
     "status": "completed"
    },
    "tags": []
   },
   "outputs": [],
   "source": [
    "## Now we will insert two columns with the rides' times and distances\n",
    "clean_data <- clean_data %>%\n",
    "  mutate(ride_length=difftime(ended_at,started_at,units = \"mins\"))\n",
    "\n",
    "clean_data <- clean_data %>%\n",
    "  rowwise()%>%\n",
    "  mutate(ride_dist=distHaversine(c(start_lng,start_lat),\n",
    "                                 c(end_lng,end_lat)))"
   ]
  },
  {
   "cell_type": "code",
   "execution_count": 7,
   "id": "ec07086f",
   "metadata": {
    "execution": {
     "iopub.execute_input": "2021-08-31T10:57:48.672073Z",
     "iopub.status.busy": "2021-08-31T10:57:48.670593Z",
     "iopub.status.idle": "2021-08-31T10:59:39.857446Z",
     "shell.execute_reply": "2021-08-31T10:59:39.856408Z"
    },
    "papermill": {
     "duration": 111.236571,
     "end_time": "2021-08-31T10:59:39.857588",
     "exception": false,
     "start_time": "2021-08-31T10:57:48.621017",
     "status": "completed"
    },
    "tags": []
   },
   "outputs": [],
   "source": [
    "## We filter the dataset and keep only the positive values for time and distance\n",
    "clean_data <- clean_data %>%\n",
    "  filter(ride_length>0 & ride_dist>0)\n",
    "## Now we are ready for the analyze phase"
   ]
  },
  {
   "cell_type": "markdown",
   "id": "7fc91647",
   "metadata": {
    "papermill": {
     "duration": 0.017984,
     "end_time": "2021-08-31T10:59:39.897813",
     "exception": false,
     "start_time": "2021-08-31T10:59:39.879829",
     "status": "completed"
    },
    "tags": []
   },
   "source": [
    "# 4. Analyze\n",
    "### Perform analysis via calculations and visualizations"
   ]
  },
  {
   "cell_type": "code",
   "execution_count": 8,
   "id": "9a2c5e07",
   "metadata": {
    "execution": {
     "iopub.execute_input": "2021-08-31T10:59:39.940393Z",
     "iopub.status.busy": "2021-08-31T10:59:39.938351Z",
     "iopub.status.idle": "2021-08-31T10:59:40.228418Z",
     "shell.execute_reply": "2021-08-31T10:59:40.226452Z"
    },
    "papermill": {
     "duration": 0.31278,
     "end_time": "2021-08-31T10:59:40.228562",
     "exception": false,
     "start_time": "2021-08-31T10:59:39.915782",
     "status": "completed"
    },
    "tags": []
   },
   "outputs": [
    {
     "data": {
      "text/html": [
       "<table class=\"dataframe\">\n",
       "<caption>A tibble: 2 × 3</caption>\n",
       "<thead>\n",
       "\t<tr><th scope=col>member_casual</th><th scope=col>average_time</th><th scope=col>average_dist</th></tr>\n",
       "\t<tr><th scope=col>&lt;chr&gt;</th><th scope=col>&lt;drtn&gt;</th><th scope=col>&lt;dbl&gt;</th></tr>\n",
       "</thead>\n",
       "<tbody>\n",
       "\t<tr><td>casual</td><td>33.49975 mins</td><td>2498.512</td></tr>\n",
       "\t<tr><td>member</td><td>14.38676 mins</td><td>2312.494</td></tr>\n",
       "</tbody>\n",
       "</table>\n"
      ],
      "text/latex": [
       "A tibble: 2 × 3\n",
       "\\begin{tabular}{lll}\n",
       " member\\_casual & average\\_time & average\\_dist\\\\\n",
       " <chr> & <drtn> & <dbl>\\\\\n",
       "\\hline\n",
       "\t casual & 33.49975 mins & 2498.512\\\\\n",
       "\t member & 14.38676 mins & 2312.494\\\\\n",
       "\\end{tabular}\n"
      ],
      "text/markdown": [
       "\n",
       "A tibble: 2 × 3\n",
       "\n",
       "| member_casual &lt;chr&gt; | average_time &lt;drtn&gt; | average_dist &lt;dbl&gt; |\n",
       "|---|---|---|\n",
       "| casual | 33.49975 mins | 2498.512 |\n",
       "| member | 14.38676 mins | 2312.494 |\n",
       "\n"
      ],
      "text/plain": [
       "  member_casual average_time  average_dist\n",
       "1 casual        33.49975 mins 2498.512    \n",
       "2 member        14.38676 mins 2312.494    "
      ]
     },
     "metadata": {},
     "output_type": "display_data"
    }
   ],
   "source": [
    "## First we want to check the differences in time and distance between the members\n",
    "clean_data %>%\n",
    "  group_by(member_casual)%>%\n",
    "  summarise(average_time=mean(ride_length),average_dist=mean(ride_dist))"
   ]
  },
  {
   "cell_type": "markdown",
   "id": "27edeac1",
   "metadata": {
    "papermill": {
     "duration": 0.01875,
     "end_time": "2021-08-31T10:59:40.266177",
     "exception": false,
     "start_time": "2021-08-31T10:59:40.247427",
     "status": "completed"
    },
    "tags": []
   },
   "source": [
    "#### There is a clear understanding that casual members use Cyclistic bikes for longer and cover larger distances in average, compared to annual members."
   ]
  },
  {
   "cell_type": "code",
   "execution_count": 9,
   "id": "7197bdd8",
   "metadata": {
    "execution": {
     "iopub.execute_input": "2021-08-31T10:59:40.309650Z",
     "iopub.status.busy": "2021-08-31T10:59:40.307646Z",
     "iopub.status.idle": "2021-08-31T10:59:53.792574Z",
     "shell.execute_reply": "2021-08-31T10:59:53.790659Z"
    },
    "papermill": {
     "duration": 13.50796,
     "end_time": "2021-08-31T10:59:53.792791",
     "exception": false,
     "start_time": "2021-08-31T10:59:40.284831",
     "status": "completed"
    },
    "tags": []
   },
   "outputs": [
    {
     "data": {
      "image/png": "[encoded data removed]"
     },
     "metadata": {
      "image/png": {
       "height": 420,
       "width": 420
      }
     },
     "output_type": "display_data"
    }
   ],
   "source": [
    "## Identify the type of bike each category uses the most\n",
    "ggplot(clean_data,aes(x=rideable_type,fill=member_casual)) +\n",
    "geom_bar(position=\"dodge\") +\n",
    "labs(title=\"Biketype usage for each member category\",x=\"Rideable Type\",y=\"Count\") +\n",
    "theme_classic() +\n",
    "scale_fill_discrete(name=\"Member-Casual\",labels=c(\"Casual\",\"Member\"))"
   ]
  },
  {
   "cell_type": "markdown",
   "id": "38aef0e4",
   "metadata": {
    "papermill": {
     "duration": 0.019917,
     "end_time": "2021-08-31T10:59:53.833765",
     "exception": false,
     "start_time": "2021-08-31T10:59:53.813848",
     "status": "completed"
    },
    "tags": []
   },
   "source": [
    "#### It seems that there is no significant preference for a certain type of bike in casual members. However, annual members seem to prefer the classic bike."
   ]
  },
  {
   "cell_type": "code",
   "execution_count": 10,
   "id": "da32cebf",
   "metadata": {
    "execution": {
     "iopub.execute_input": "2021-08-31T10:59:53.880060Z",
     "iopub.status.busy": "2021-08-31T10:59:53.878165Z",
     "iopub.status.idle": "2021-08-31T10:59:57.735411Z",
     "shell.execute_reply": "2021-08-31T10:59:57.733796Z"
    },
    "papermill": {
     "duration": 3.88194,
     "end_time": "2021-08-31T10:59:57.735598",
     "exception": false,
     "start_time": "2021-08-31T10:59:53.853658",
     "status": "completed"
    },
    "tags": []
   },
   "outputs": [
    {
     "data": {
      "image/png": "[encoded data removed]"
     },
     "metadata": {
      "image/png": {
       "height": 420,
       "width": 420
      }
     },
     "output_type": "display_data"
    }
   ],
   "source": [
    "## Identify trends for each day of the week\n",
    "ggplot(clean_data,aes(x=factor(day_of_the_week,weekdays(min(date) + 2:8)),fill=member_casual))+\n",
    "geom_bar(position=\"dodge\")+\n",
    "labs(title=\"Cyclistic use for each day of the week\",\n",
    "    x=\"Day of the week\",y=\"count\")+\n",
    "theme_classic()+\n",
    "scale_fill_discrete(name=\"Member-Casual\",labels=c(\"Casual\",\"Member\"))"
   ]
  },
  {
   "cell_type": "markdown",
   "id": "f1840809",
   "metadata": {
    "papermill": {
     "duration": 0.02112,
     "end_time": "2021-08-31T10:59:57.778509",
     "exception": false,
     "start_time": "2021-08-31T10:59:57.757389",
     "status": "completed"
    },
    "tags": []
   },
   "source": [
    "#### We can clearly see that casual members tend to use Cyclistic bikes more on the weekend while annual members have almost the same rate of usage every day."
   ]
  },
  {
   "cell_type": "code",
   "execution_count": 11,
   "id": "86fc50fb",
   "metadata": {
    "execution": {
     "iopub.execute_input": "2021-08-31T10:59:57.826436Z",
     "iopub.status.busy": "2021-08-31T10:59:57.825009Z",
     "iopub.status.idle": "2021-08-31T11:00:04.711204Z",
     "shell.execute_reply": "2021-08-31T11:00:04.710102Z"
    },
    "papermill": {
     "duration": 6.911823,
     "end_time": "2021-08-31T11:00:04.711366",
     "exception": false,
     "start_time": "2021-08-31T10:59:57.799543",
     "status": "completed"
    },
    "tags": []
   },
   "outputs": [
    {
     "data": {
      "image/png": "[encoded data removed]"
     },
     "metadata": {
      "image/png": {
       "height": 420,
       "width": 420
      }
     },
     "output_type": "display_data"
    }
   ],
   "source": [
    "ggplot(clean_data,aes(x=month,fill=member_casual))+\n",
    "  geom_bar() +\n",
    "facet_wrap(~member_casual)+\n",
    "labs(title=\"Cyclistic bikes use per month\",x=\"Month\",y=\"Count\")+\n",
    "scale_fill_discrete(name=\"Member-Casual\",labels=c(\"Casual\",\"Member\"))\n"
   ]
  },
  {
   "cell_type": "markdown",
   "id": "391198fc",
   "metadata": {
    "papermill": {
     "duration": 0.022556,
     "end_time": "2021-08-31T11:00:04.757389",
     "exception": false,
     "start_time": "2021-08-31T11:00:04.734833",
     "status": "completed"
    },
    "tags": []
   },
   "source": [
    "#### It is obvious that both annual and casual members use bikes more often when the weather gets warmer  and reach their peak in July."
   ]
  },
  {
   "cell_type": "markdown",
   "id": "cfaabb6d",
   "metadata": {
    "papermill": {
     "duration": 0.022376,
     "end_time": "2021-08-31T11:00:04.802123",
     "exception": false,
     "start_time": "2021-08-31T11:00:04.779747",
     "status": "completed"
    },
    "tags": []
   },
   "source": [
    "# 5. Share"
   ]
  },
  {
   "cell_type": "markdown",
   "id": "67cffcaa",
   "metadata": {
    "papermill": {
     "duration": 0.02218,
     "end_time": "2021-08-31T11:00:04.846646",
     "exception": false,
     "start_time": "2021-08-31T11:00:04.824466",
     "status": "completed"
    },
    "tags": []
   },
   "source": [
    "#### From the analysis we made we found the following points\n",
    "#### 1. Casual riders spend more time when riding bikes and cover larger distances in average than annual riders\n",
    "#### 2. Annual members have a preference to classic bikes while casual members show no preference\n",
    "#### 3. Casual members seem to use Cyclistic bikes more often on the weekends when annual members present a steady pace for the whole week\n",
    "#### 4. Both annual and casual members show a tendency to use bikes when the summer months are close. That is explained by the weather conditions which are significantly better at that time of the year."
   ]
  },
  {
   "cell_type": "markdown",
   "id": "cde7660b",
   "metadata": {
    "papermill": {
     "duration": 0.022168,
     "end_time": "2021-08-31T11:00:04.891350",
     "exception": false,
     "start_time": "2021-08-31T11:00:04.869182",
     "status": "completed"
    },
    "tags": []
   },
   "source": [
    "# 6. Act"
   ]
  },
  {
   "cell_type": "markdown",
   "id": "19912ce3",
   "metadata": {
    "papermill": {
     "duration": 0.02258,
     "end_time": "2021-08-31T11:00:04.936506",
     "exception": false,
     "start_time": "2021-08-31T11:00:04.913926",
     "status": "completed"
    },
    "tags": []
   },
   "source": [
    "#### Taking in consideration the points 1 and 3 we can conclude that annual members are people who live at the center of Chicago and use bikes to move daily to their work and casual members probably live in the outskirts and prefer bikes in their leisure time on weekends. A good strategy for the company would be to launch a new membership package only for the weekends. \n",
    "#### In addition to that, another subscription package could include discounts for long distances in order to attract a lot of casual members who cover large distances. \n",
    "#### Finally, Cyclistic could start a campaign and advertise a new project for a 6-month subscription from April to September where the most of the members use bicycle for their transportation."
   ]
  },
  {
   "cell_type": "markdown",
   "id": "4fd31964",
   "metadata": {
    "papermill": {
     "duration": 0.022724,
     "end_time": "2021-08-31T11:00:04.982692",
     "exception": false,
     "start_time": "2021-08-31T11:00:04.959968",
     "status": "completed"
    },
    "tags": []
   },
   "source": []
  }
 ],
 "metadata": {
  "kernelspec": {
   "display_name": "R",
   "language": "R",
   "name": "ir"
  },
  "language_info": {
   "codemirror_mode": "r",
   "file_extension": ".r",
   "mimetype": "text/x-r-source",
   "name": "R",
   "pygments_lexer": "r",
   "version": "4.0.5"
  },
  "papermill": {
   "default_parameters": {},
   "duration": 1072.431572,
   "end_time": "2021-08-31T11:00:06.164076",
   "environment_variables": {},
   "exception": null,
   "input_path": "__notebook__.ipynb",
   "output_path": "__notebook__.ipynb",
   "parameters": {},
   "start_time": "2021-08-31T10:42:13.732504",
   "version": "2.3.3"
  }
 },
 "nbformat": 4,
 "nbformat_minor": 5
}
